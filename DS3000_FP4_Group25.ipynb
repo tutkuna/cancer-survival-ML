{
 "cells": [
  {
   "cell_type": "markdown",
   "metadata": {},
   "source": [
    "<center> <h2> DS 3000 - Fall 2021</h2> </center>\n",
    "<center> <h3> DS Report </h3> </center>\n"
   ]
  },
  {
   "cell_type": "markdown",
   "metadata": {},
   "source": [
    "<center> <h3>Compound factors affecting cancer survival outcomes</h3> </center>\n",
    "<center><h4>Alp Tutkun, Chidima Asikaburu, Derek Leung</h4></center>\n"
   ]
  },
  {
   "cell_type": "markdown",
   "metadata": {},
   "source": [
    "<hr style=\"height:2px; border:none; color:black; background-color:black;\">"
   ]
  },
  {
   "cell_type": "markdown",
   "metadata": {},
   "source": [
    "#### Executive Summary:\n",
    "\n",
    "Add your summary here (100-150 words)\n",
    "\n",
    "Provide a brief summary of your project. After reading this executive summary, your readers should have a rough understanding of what you did in this project. You can think of this summary in terms of the four sections of the report and write 1-2 sentences describing each section.\n",
    "\n"
   ]
  },
  {
   "cell_type": "markdown",
   "metadata": {},
   "source": [
    "<hr style=\"height:2px; border:none; color:black; background-color:black;\">"
   ]
  },
  {
   "cell_type": "markdown",
   "metadata": {},
   "source": [
    "## Outline\n",
    "1. <a href='#1'>INTRODUCTION</a>\n",
    "2. <a href='#2'>METHOD</a>\n",
    "3. <a href='#3'>RESULTS</a>\n",
    "4. <a href='#4'>DISCUSSION</a>"
   ]
  },
  {
   "cell_type": "markdown",
   "metadata": {},
   "source": [
    "<a id=\"1\"></a>\n",
    "<hr style=\"height:2px; border:none; color:black; background-color:black;\">"
   ]
  },
  {
   "cell_type": "markdown",
   "metadata": {},
   "source": [
    "## 1. INTRODUCTION"
   ]
  },
  {
   "cell_type": "markdown",
   "metadata": {},
   "source": [
    "In this section, orient your readers to your project. You've already written some of these in previous deliverables. Based on your final analysis, revise your problem statement and write a concise introduction section. This section should touch upon the following points, but should be written in full paragraphs. Your writing should incorporate all of these points (and more if you like) in a coherent way. Remember that you are trying to convince your readers that this is an important problem to tackle. \n",
    "\n",
    "<h4>Problem Statement</h4>\n",
    "\n",
    "* Describe the problem you would like to tackle. \n",
    "* What is the topic of your project? \n",
    "* What do you want to learn about it?\n",
    "\n",
    "<h4>Significance of the Problem</h4>\n",
    "\n",
    "* Why is it important to tackle this problem in your project?\n",
    "* In what ways could the insights from this project be useful?\n",
    "* **(optional)** Has there been previous work on your topic in terms of applying ML techniques to analyze similar datasets? Do some research into your topic. What algorithms were used? What was the performance of those algorithms? Cite your sources appropriately. You can use the numbered reference format or APA (if you are more comfortable with it).\n",
    "\n",
    "<h4>Questions</h4>\n",
    "\n",
    "* End this section with a list of data analysis questions you tackled in this project\n",
    "* You should tie these questions to the problem statement and its significance\n",
    "    * e.g. Given the aforementioned problem and its importance, we set out to tackle the following questions:\n",
    "    \n",
    "    * **Requirement:**\n",
    "        * You should have at least one question tapping into the comparison of various machine learning algorithms (at least three) in predicting/classifying your target variable from your features variables.\n",
    "\n",
    "\n",
    "\n",
    "While this section provides bullet points as prompts, your Introduction should consist of coherent paragraphs. You are required delete all the prompts from this template, except for headings. Failing to do so will result in substantial point deductions."
   ]
  },
  {
   "cell_type": "markdown",
   "metadata": {},
   "source": [
    "# <span style=\"color:red\">intro in progress</span>\n",
    "\n",
    "<h4>Problem Statement</h4>\n",
    "\n",
    "The compound effects of histological type, age of diagnosis, tumor site, race, gender, etc. on the survival outcome of cancer patients is not fully understood.  \n",
    "The topic of this project would be to analyze clinical data of cancer patients to discern any patterns in survival outcome based on different clinical factors. \n",
    "We’d like to learn if it is possible to predict whether a patient will survive cancer based only on the clinical factors initially available when the patient enters treatment. \n",
    "\n",
    "<h4>Significance of the Problem</h4>\n",
    "\n",
    "Around 40% of humans will be diagnosed with cancer in their lives, hence knowing how severe their diagnosis may turn out would bring a lot of hope to people that may fall under a lower severity bracket while bringing closure to people who may fall under a higher severity bracket. Sometimes not knowing how at risk you are may be more painful than knowing the likely outcome. (https://www.cancer.gov/about-cancer/understanding/statistics)\n",
    "Knowing how at risk patients are based on initial clinical data would allow doctors to prioritize treatments and appointments for high-at-risk patients. While hospitals may have enough space and priority for cancer patients during normal times (which is not always the case even then), this data may be especially useful during times like the covid-19 pandemic. As hospitals were swamped with covid patients many cancer patients missed treatment during this pandemic. Knowing the predicted outcomes may give doctors cause to pull these cancer patients forward in treatment priority. (https://www.cancercenter.com/community/press-releases/2020/12/cancer-treatment-centers-of-america-ceo-says-delayed-cancer-care-will-cost-more-and-more-lives-during-second-wave-of-covid-19) \n",
    "\n",
    "<h4>Questions</h4>\n",
    "\n",
    "- What factors/features make a high-at-risk patient?\n",
    "- Which factors/features are the greatest determinant to tell survival rates of a patient?\n",
    "- How have survival rates changed through the years 1994 - 2011?\n",
    "- Which classification algorithm is the best at predicting patient survival outcomes when trained on our dataset?\n",
    "- Can we predict a cancer patient’s survival outcome based on simple demographic and clinical features?\n",
    "\n"
   ]
  },
  {
   "cell_type": "markdown",
   "metadata": {},
   "source": [
    "<a id=\"2\"></a>\n",
    "<hr style=\"height:2px; border:none; color:black; background-color:black;\">"
   ]
  },
  {
   "cell_type": "markdown",
   "metadata": {},
   "source": [
    "## 2. METHOD"
   ]
  },
  {
   "cell_type": "markdown",
   "metadata": {},
   "source": [
    "### 2.1. Data Acquisition\n",
    "\n",
    "* Describe where you obtained your data. Provide a link to the original source. \n",
    "* If you scraped your data, include your code as a **separate** Notebook file.\n",
    "* Your data should be stored in an online repository (e.g., GitHub) and your code should retrieve your data from that online resource. You can read csv files from the Web in the same way that you read files from local drive.\n",
    "* Describe the dataset (i.e., what it is about) and the number of variables/samples included.\n"
   ]
  },
  {
   "cell_type": "markdown",
   "metadata": {},
   "source": [
    "A dataset containing over 11,000 cancer patients' data with over 30 columns of features was scraped from The Cancer Genomics Atlas in this paper: https://www.ncbi.nlm.nih.gov/pmc/articles/PMC6066282/#SD1. \n",
    "\n",
    "We downloaded the excel sheet from the paper and converted to a comma-delimited csv file to prepare for processing in step 3.\n",
    "\n",
    "The raw csv file is stored here: https://github.com/tutkuna/cancer-survival-ML/blob/master/NIHMS978596-supplement-1.csv \n",
    "\n",
    "The features we will pull out from this file:\n",
    "- type: Cancer type (acronyms ACC[Adrenocortical carcinoma], TGCT, etc.) \n",
    "- age_at_initial_pathologic_diagnosis: Numeric age at the time of initial diagnosis with cancer.\n",
    "- gender: Male / Female\n",
    "- race: White / Black or African American / Native American / Asian\n",
    "- ajcc_pathologic_tumor_stage: American Joint Committee on Cancer (AJCC) system Tumor Stage (categorical) \n",
    "- initial_pathologic_dx_year: Year of initial diagnosis (advancement of medicine’s effect on survival)\n",
    "- tumor_status: WITH TUMOR or TUMOR FREE (patient may have had a tumor stage and still be TUMOR FREE, if it was removed successfully)\n",
    "- treatment_outcome_first_course: Treatment outcome after first course of treatment (how first course treatment outcome affects survival)\n",
    "- last_contact_days_to: How many days since last contact with patient (Importance of keeping contact with medical services in cancer survival)\n",
    "- OS: overall survival outcome, 0=alive 1=dead - target/outcome variable\n",
    "\n",
    "After pulling out our selected 9 features and 1 outcome variable and eliminating samples with incomplete information, we were left with around 1800 samples.\n",
    "\n",
    "\n"
   ]
  },
  {
   "cell_type": "markdown",
   "metadata": {},
   "source": [
    "### 2.2. Data Analysis\n",
    "* Describe your predictive model in greater detail. What outcome variable are you going to predict from what feature variables? Why do you think those are important predictors?\n",
    "* Describe why this is a supervised ML problem and identify the sub-category of the learning task (e.g. classification).\n",
    "* What machine learning algorithms are you going to use? **Why?** You should list at least three algorithms. Provide a brief description of each algorithm and explain why you think they are appropriate for your data."
   ]
  },
  {
   "cell_type": "markdown",
   "metadata": {},
   "source": [
    "# <span style=\"color:red\">Describe your predictive model in greater detail. What outcome variable are you going to predict from what feature variables? Why do you think those are important predictors?</span>\n",
    "\n",
    "Our project is tackling a classification problem since our target variable, survival outcome, is a categorical variable (dead vs alive). We will be predicting this from cancer type\n",
    "\n",
    "We know the survival outcome of all the patients, so we can easily apply our supervised ML models on this datased and gauge the accuracy of our predictions.\n",
    "\n",
    "As our features include numerical variables and we will be one-hot encoding our categorical features, the classification algorithms that are best able to handle our data are the K-Nearest Neighbors, Naive Bayes, and Support Vector Machines models. \n",
    "\n",
    "The k nearest neighbor algorithm assumes that similar data points “flock” together and may not be ideal for a dataset with hundreds of features, but we don't have too many features, so the algorithm should work well. \n",
    "The Naive Bayes algorithm assumes features are equally important a priority and features are unrelated to other features, we will assure this by one-hot encoding and selecting unrelated features.\n",
    "\n",
    "# <span style=\"color:red\">DT or SVM??? add descriptions</span>"
   ]
  },
  {
   "cell_type": "markdown",
   "metadata": {},
   "source": [
    "<a id=\"3\"></a>\n",
    "<hr style=\"height:2px; border:none; color:black; background-color:black;\">"
   ]
  },
  {
   "cell_type": "markdown",
   "metadata": {},
   "source": [
    "## 3. RESULTS"
   ]
  },
  {
   "cell_type": "markdown",
   "metadata": {},
   "source": [
    "### 3.1. Data Wrangling\n",
    "In this section, you should do the following and explain why you are doing what you are doing. For each, you should include your code in a cell, followed by a sample output. For instance, if you are one-hot encoding one of your variables, you should first describe what it is and why you are doing it. You should then include your code in a cell, and the sample output should be available as well.\n",
    "\n",
    "Do at least three of the following:\n",
    "* Perform simple data cleaning (delete extra columns, deal with NA values, etc.)\n",
    "* Perform data wrangling to get your features and target values (e.g., grouping your dataframe by columns, applying functions to format dataframes, etc.)\n",
    "* Preprocess your variables (e.g., scaling/transforming feature variables to normalize them)\n",
    "* Perform feature extraction (dummy variables, new features from existing features, etc.)"
   ]
  },
  {
   "cell_type": "code",
   "execution_count": null,
   "metadata": {},
   "outputs": [],
   "source": [
    "import pandas as pd\n",
    "\n",
    "df = pd.read_csv(\"https://github.com/tutkuna/cancer-survival-ML/blob/master/NIHMS978596-supplement-1.csv\") \n",
    "\n",
    "columns = ['type','age_at_initial_pathologic_diagnosis','gender','race','ajcc_pathologic_tumor_stage',\n",
    "           'initial_pathologic_dx_year', 'tumor_status',\n",
    "           'treatment_outcome_first_course', 'last_contact_days_to','OS'] # OS is survival outcome (0 for alive, 1 for dead)\n",
    "\n",
    "df = df[columns]\n",
    "df = df.dropna(how='any') # clean NAs\n",
    "df = df[(df.race != '[Not Available]')&(df.race != '[Not Evaluated]')&(df.race != '[Unknown]')] # clean race\n",
    "df = df[(df.ajcc_pathologic_tumor_stage != '[Not Available]') & (df.ajcc_pathologic_tumor_stage != '[Not Applicable]') & \n",
    "         (df.ajcc_pathologic_tumor_stage != '[Unknown]') & (df.ajcc_pathologic_tumor_stage != '[Discrepancy]')] # clean tumor_stage\n",
    "df = df[df.tumor_status != '[Discrepancy]'] # clean tumor_status\n",
    "df = df[(df.treatment_outcome_first_course != '[Not Available]') & (df.treatment_outcome_first_course != '[Discrepancy]') & \n",
    "        (df.treatment_outcome_first_course != '[Not Applicable]') & (df.treatment_outcome_first_course != '[Not Evaluated]') & \n",
    "        (df.treatment_outcome_first_course != '[Unknown]')] # clean treatment_outcome_first_course\n",
    "df = df.reset_index(drop=True)\n",
    "\n",
    "## check\n",
    "# df.groupby('OS').count()\n",
    "# df.groupby('race').mean().reset_index()\n",
    "\n",
    "df.to_csv('cleaned.csv')\n",
    "df\n",
    "\n",
    "# clean NAs, select columns\n",
    "# One-hot encoding\n",
    "# split into features and target dataframes"
   ]
  },
  {
   "cell_type": "markdown",
   "metadata": {},
   "source": [
    "### 3.2. Data Exploration\n",
    "* Generate appropriate data visualizations for your key variables identified in the previous section\n",
    "* You should have at least three visualizations (and at least two different visualization types)\n",
    "* For each visualization provide an explanation regarding the variables involved and an interpretation of the graph. In other words, what does the graph represent?\n",
    "* Insert your visualizations as images as well (upload the graph images to an online source, e.g. github or imgbb, and embed those into the cells in Jupyter Notebook, similar to HWs). This is a requirement.\n"
   ]
  },
  {
   "cell_type": "code",
   "execution_count": null,
   "metadata": {},
   "outputs": [],
   "source": [
    "# visualize, include unsupervised learning visualization\n",
    "# upload images to github and embed into cells"
   ]
  },
  {
   "cell_type": "markdown",
   "metadata": {},
   "source": [
    "### 3.3. Model Training\n",
    "* For your machine learning question(s), use the Training, Validation, and Testing approach through GridSearch\n",
    "* Apply machine learning algorithms (apply at least three different algorithms)\n",
    "* Train your algorithms using your **training set**\n",
    "\n",
    "* Evaluate the performance of your algorithms using appropriate evaluation metrics\n",
    "    * Use at least two different metrics\n",
    "    * Remember GridSearch will use cross-validation\n",
    "\n",
    "* Is there any indication of overfitting/underfitting?\n",
    "\n",
    "* Use one feature selection technique to select a subset of your original features and train your models with the selected features as well (the idea is to see if you can achieve the same using a fewer number of features)\n",
    "\n",
    "    * **Hint:** You can run your model with all your features and with your selected features, comparing the results (similar to the corresponding HW assignment)."
   ]
  },
  {
   "cell_type": "code",
   "execution_count": null,
   "metadata": {},
   "outputs": [],
   "source": [
    "#knn, NB, SVM"
   ]
  },
  {
   "cell_type": "markdown",
   "metadata": {},
   "source": [
    "### 3.4. Model Optimization\n",
    "* Tune your models using hyperparameters appropriate for your algorithms\n",
    "* Explain why you are doing this (e.g., to avoid overfitting, etc.)"
   ]
  },
  {
   "cell_type": "code",
   "execution_count": null,
   "metadata": {},
   "outputs": [],
   "source": [
    "# hyperparameter tuning"
   ]
  },
  {
   "cell_type": "markdown",
   "metadata": {},
   "source": [
    "### 3.5. Model Testing\n",
    "* Test your tuned algorithms using your **testing set**"
   ]
  },
  {
   "cell_type": "code",
   "execution_count": null,
   "metadata": {},
   "outputs": [],
   "source": [
    "# test"
   ]
  },
  {
   "cell_type": "markdown",
   "metadata": {},
   "source": [
    "<a id=\"4\"></a>\n",
    "<hr style=\"height:2px; border:none; color:black; background-color:black;\">"
   ]
  },
  {
   "cell_type": "markdown",
   "metadata": {},
   "source": [
    "## 4. DISCUSSION\n",
    "* Interpret your findings from 3.3, 3.4, and 3.5\n",
    "    * Which algorithms did you compare?\n",
    "    * Which algorithm(s) revealed best performance? With what parameters?\n",
    "    * Which algorithm(s) should be used for your predictive model?\n",
    "    * Based on your findings, can we use the features in your dataset to predict the outcome variable you identified using the algorithms you've applied? (It is okay if the answer is no. We're interested in the process, not the performance of the model.)\n",
    "\n",
    "* Discuss the ethical implications of your project. Should your results be accepted at face value, why or why not? (e.g. any dataset bias or methodological issues?)\n",
    "\n",
    "* End this section with a conclusion paragraph containing some pointers for future work\n",
    "    * (e.g., get more data/features, perform another analysis, etc.)"
   ]
  },
  {
   "cell_type": "markdown",
   "metadata": {},
   "source": []
  },
  {
   "cell_type": "markdown",
   "metadata": {},
   "source": [
    "<a id=\"5\"></a>\n",
    "<hr style=\"height:2px; border:none; color:black; background-color:black;\">"
   ]
  },
  {
   "cell_type": "markdown",
   "metadata": {},
   "source": [
    "### CONTRIBUTIONS\n",
    "* Describe each team member's contributions to the report (who did what in each section)\n",
    "* Remember this is a team effort!\n",
    "* Each member of your team will later provide peer evaluation of other team members. Your final grade on the project will be based on those peer evaluations. A survey will be shared after the deadline for this deliverable."
   ]
  },
  {
   "cell_type": "code",
   "execution_count": null,
   "metadata": {},
   "outputs": [],
   "source": []
  }
 ],
 "metadata": {
  "kernelspec": {
   "display_name": "Python 3",
   "language": "python",
   "name": "python3"
  },
  "language_info": {
   "codemirror_mode": {
    "name": "ipython",
    "version": 3
   },
   "file_extension": ".py",
   "mimetype": "text/x-python",
   "name": "python",
   "nbconvert_exporter": "python",
   "pygments_lexer": "ipython3",
   "version": "3.8.5"
  }
 },
 "nbformat": 4,
 "nbformat_minor": 2
}
